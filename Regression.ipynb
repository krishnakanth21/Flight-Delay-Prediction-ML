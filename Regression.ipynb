{
 "cells": [
  {
   "cell_type": "code",
   "execution_count": 1,
   "metadata": {},
   "outputs": [],
   "source": [
    "%matplotlib inline\n",
    "import pandas as pd\n",
    "import matplotlib.pyplot as plt\n",
    "import os\n",
    "from sklearn.model_selection import train_test_split\n",
    "from sklearn.datasets import load_iris"
   ]
  },
  {
   "cell_type": "code",
   "execution_count": 2,
   "metadata": {},
   "outputs": [],
   "source": [
    "os.chdir(r\"C:\\Users\\super\\Downloads\\FlightWeather_new\")\n",
    "data=pd.read_csv('Module2ext.csv')"
   ]
  },
  {
   "cell_type": "code",
   "execution_count": 3,
   "metadata": {
    "collapsed": true
   },
   "outputs": [
    {
     "data": {
      "text/plain": [
       "Unnamed: 0           int64\n",
       "Unnamed: 0.1         int64\n",
       "Unnamed: 0_x         int64\n",
       "Year                 int64\n",
       "Quarter              int64\n",
       "Month                int64\n",
       "DayofMonth           int64\n",
       "FlightDate          object\n",
       "DepTime            float64\n",
       "DepDel15           float64\n",
       "Origin              object\n",
       "Dest                object\n",
       "CRSDepTime           int64\n",
       "DepDelayMinutes    float64\n",
       "OriginAirportID      int64\n",
       "DestAirportID        int64\n",
       "ArrTime            float64\n",
       "CRSArrTime           int64\n",
       "ArrDel15           float64\n",
       "ArrDelayMinutes    float64\n",
       "ArrivalDate         object\n",
       "ArrTime1             int64\n",
       "DepTime1             int64\n",
       "Unnamed: 0_y         int64\n",
       "windspeedKmph_x      int64\n",
       "DewPointF_x          int64\n",
       "cloudcover_x         int64\n",
       "precipMM_x         float64\n",
       "pressure_x           int64\n",
       "WindGustKmph_x       int64\n",
       "visibility_x         int64\n",
       "weatherCode_x        int64\n",
       "tempF_x              int64\n",
       "WindChillF_x         int64\n",
       "winddirDegree_x      int64\n",
       "humidity_x           int64\n",
       "time_x               int64\n",
       "Airport_x           object\n",
       "Date_x              object\n",
       "Unnamed: 0.1.1       int64\n",
       "windspeedKmph_y      int64\n",
       "DewPointF_y          int64\n",
       "cloudcover_y         int64\n",
       "precipMM_y         float64\n",
       "pressure_y           int64\n",
       "WindGustKmph_y       int64\n",
       "visibility_y         int64\n",
       "weatherCode_y        int64\n",
       "tempF_y              int64\n",
       "WindChillF_y         int64\n",
       "winddirDegree_y      int64\n",
       "humidity_y           int64\n",
       "time_y               int64\n",
       "Airport_y           object\n",
       "Date_y              object\n",
       "PredDelay          float64\n",
       "dtype: object"
      ]
     },
     "execution_count": 3,
     "metadata": {},
     "output_type": "execute_result"
    }
   ],
   "source": [
    "data.dtypes"
   ]
  },
  {
   "cell_type": "code",
   "execution_count": 4,
   "metadata": {},
   "outputs": [],
   "source": [
    "data=data.loc[data['PredDelay'] == 1]"
   ]
  },
  {
   "cell_type": "code",
   "execution_count": 5,
   "metadata": {},
   "outputs": [],
   "source": [
    "from matplotlib import cm\n",
    "feature_names = data.drop(['ArrDel15','DepDel15','Unnamed: 0','Unnamed: 0_x','Unnamed: 0_y','Unnamed: 0.1','Date_x','Date_y','FlightDate','ArrivalDate','Airport_x','Airport_y','Origin','Dest','DepTime','ArrTime','ArrDelayMinutes','ArrTime1','DepTime1','DepDelayMinutes'],axis=1)\n",
    "X = feature_names\n",
    "y = data['ArrDelayMinutes']\n",
    "from sklearn import svm, datasets\n",
    "from sklearn.model_selection import train_test_split\n",
    "import numpy as np\n",
    "random_state = np.random.RandomState(0)\n",
    "X_train, X_test, y_train, y_test = train_test_split(X, y,test_size=0.2, random_state=random_state)"
   ]
  },
  {
   "cell_type": "code",
   "execution_count": 6,
   "metadata": {
    "collapsed": true
   },
   "outputs": [
    {
     "data": {
      "text/plain": [
       "['Year',\n",
       " 'Quarter',\n",
       " 'Month',\n",
       " 'DayofMonth',\n",
       " 'CRSDepTime',\n",
       " 'OriginAirportID',\n",
       " 'DestAirportID',\n",
       " 'CRSArrTime',\n",
       " 'windspeedKmph_x',\n",
       " 'DewPointF_x',\n",
       " 'cloudcover_x',\n",
       " 'precipMM_x',\n",
       " 'pressure_x',\n",
       " 'WindGustKmph_x',\n",
       " 'visibility_x',\n",
       " 'weatherCode_x',\n",
       " 'tempF_x',\n",
       " 'WindChillF_x',\n",
       " 'winddirDegree_x',\n",
       " 'humidity_x',\n",
       " 'time_x',\n",
       " 'Unnamed: 0.1.1',\n",
       " 'windspeedKmph_y',\n",
       " 'DewPointF_y',\n",
       " 'cloudcover_y',\n",
       " 'precipMM_y',\n",
       " 'pressure_y',\n",
       " 'WindGustKmph_y',\n",
       " 'visibility_y',\n",
       " 'weatherCode_y',\n",
       " 'tempF_y',\n",
       " 'WindChillF_y',\n",
       " 'winddirDegree_y',\n",
       " 'humidity_y',\n",
       " 'time_y',\n",
       " 'PredDelay']"
      ]
     },
     "execution_count": 6,
     "metadata": {},
     "output_type": "execute_result"
    }
   ],
   "source": [
    "feature_names.columns.tolist()"
   ]
  },
  {
   "cell_type": "code",
   "execution_count": null,
   "metadata": {},
   "outputs": [],
   "source": []
  },
  {
   "cell_type": "code",
   "execution_count": null,
   "metadata": {},
   "outputs": [],
   "source": [
    "# FOR EXTRA TREES CLASSIFIER\n",
    "  *LINEAR REGRESSOR\n",
    "  *EXTRATREES REGRESSOR\n",
    "  *XGB REGRESSOR"
   ]
  },
  {
   "cell_type": "code",
   "execution_count": null,
   "metadata": {},
   "outputs": [],
   "source": []
  },
  {
   "cell_type": "code",
   "execution_count": 30,
   "metadata": {},
   "outputs": [
    {
     "data": {
      "text/plain": [
       "LinearRegression(copy_X=True, fit_intercept=True, n_jobs=None,\n",
       "         normalize=False)"
      ]
     },
     "execution_count": 30,
     "metadata": {},
     "output_type": "execute_result"
    }
   ],
   "source": [
    "from sklearn import datasets, linear_model, metrics\n",
    "reg = linear_model.LinearRegression()\n",
    "reg.fit(X_train, y_train)\n"
   ]
  },
  {
   "cell_type": "code",
   "execution_count": 31,
   "metadata": {},
   "outputs": [],
   "source": [
    "y_pred = reg.predict(X_test)"
   ]
  },
  {
   "cell_type": "code",
   "execution_count": 32,
   "metadata": {},
   "outputs": [
    {
     "name": "stdout",
     "output_type": "stream",
     "text": [
      "R2 score:  0.9291891810746635\n",
      "RMSE:  19.79368937741836\n",
      "MAE:   14.447553459124764\n"
     ]
    }
   ],
   "source": [
    "from sklearn.metrics import r2_score\n",
    "from sklearn.metrics import mean_absolute_error\n",
    "from sklearn.metrics import mean_squared_error\n",
    "import math\n",
    "# Explained variance score: 1 is perfect prediction\n",
    "print(\"R2 score: \",r2_score(y_test,y_pred,multioutput='variance_weighted'))\n",
    "print(\"RMSE: \",math.sqrt(mean_squared_error(y_test, y_pred)))\n",
    "print(\"MAE:  \",mean_absolute_error(y_test, y_pred))"
   ]
  },
  {
   "cell_type": "code",
   "execution_count": 34,
   "metadata": {
    "collapsed": true
   },
   "outputs": [
    {
     "data": {
      "image/png": "[encoded data removed]",
      "text/plain": [
       "<Figure size 432x288 with 1 Axes>"
      ]
     },
     "metadata": {},
     "output_type": "display_data"
    }
   ],
   "source": [
    "plt.style.use('fivethirtyeight') \n",
    "  \n",
    "## plotting residual errors in training data \n",
    "plt.scatter(reg.predict(X_train), reg.predict(X_train) - y_train, \n",
    "            color = \"green\", s = 10, label = 'Train data') \n",
    "  \n",
    "## plotting residual errors in test data \n",
    "plt.scatter(reg.predict(X_test), reg.predict(X_test) - y_test, \n",
    "            color = \"blue\", s = 10, label = 'Test data') \n",
    "  \n",
    "## plotting line for zero residual error \n",
    "plt.hlines(y = 0, xmin = 0, xmax = 50, linewidth = 2) \n",
    "  \n",
    "## plotting legend \n",
    "plt.legend(loc = 'upper right') \n",
    "  \n",
    "## plot title \n",
    "plt.title(\"Residual errors\") \n",
    "  \n",
    "## function to show plot \n",
    "plt.show() "
   ]
  },
  {
   "cell_type": "code",
   "execution_count": 27,
   "metadata": {},
   "outputs": [
    {
     "data": {
      "text/plain": [
       "0.0"
      ]
     },
     "execution_count": 27,
     "metadata": {},
     "output_type": "execute_result"
    }
   ],
   "source": [
    "y_test.min()"
   ]
  },
  {
   "cell_type": "code",
   "execution_count": null,
   "metadata": {},
   "outputs": [],
   "source": []
  },
  {
   "cell_type": "code",
   "execution_count": 36,
   "metadata": {
    "collapsed": true
   },
   "outputs": [
    {
     "data": {
      "text/plain": [
       "ExtraTreesRegressor(bootstrap=False, criterion='mse', max_depth=10,\n",
       "          max_features=0.3, max_leaf_nodes=None, min_impurity_decrease=0.0,\n",
       "          min_impurity_split=None, min_samples_leaf=1, min_samples_split=2,\n",
       "          min_weight_fraction_leaf=0.0, n_estimators=5, n_jobs=-1,\n",
       "          oob_score=False, random_state=0, verbose=0, warm_start=False)"
      ]
     },
     "execution_count": 36,
     "metadata": {},
     "output_type": "execute_result"
    }
   ],
   "source": [
    "from sklearn import ensemble\n",
    "model = ensemble.ExtraTreesRegressor(n_estimators=5, max_depth=10, max_features=0.3, n_jobs=-1, random_state=0)\n",
    "model.fit(X_train, y_train)"
   ]
  },
  {
   "cell_type": "code",
   "execution_count": 37,
   "metadata": {},
   "outputs": [],
   "source": [
    "y_pred = model.predict(X_test)"
   ]
  },
  {
   "cell_type": "code",
   "execution_count": 38,
   "metadata": {
    "collapsed": true
   },
   "outputs": [
    {
     "name": "stdout",
     "output_type": "stream",
     "text": [
      "R2 score:  0.7509974748062865\n",
      "RMSE:  37.11750859637192\n",
      "MAE:   26.959506212869748\n"
     ]
    }
   ],
   "source": [
    "from sklearn.metrics import r2_score\n",
    "from sklearn.metrics import mean_absolute_error\n",
    "from sklearn.metrics import mean_squared_error\n",
    "import math\n",
    "# Explained variance score: 1 is perfect prediction\n",
    "print(\"R2 score: \",r2_score(y_test,y_pred,multioutput='variance_weighted'))\n",
    "print(\"RMSE: \",math.sqrt(mean_squared_error(y_test, y_pred)))\n",
    "print(\"MAE:  \",mean_absolute_error(y_test, y_pred))"
   ]
  },
  {
   "cell_type": "code",
   "execution_count": null,
   "metadata": {},
   "outputs": [],
   "source": []
  },
  {
   "cell_type": "code",
   "execution_count": 39,
   "metadata": {
    "collapsed": true
   },
   "outputs": [
    {
     "data": {
      "text/plain": [
       "XGBRegressor(base_score=0.5, booster='gbtree', colsample_bylevel=1,\n",
       "       colsample_bytree=1, gamma=0, learning_rate=0.1, max_delta_step=0,\n",
       "       max_depth=3, min_child_weight=1, missing=None, n_estimators=100,\n",
       "       n_jobs=1, nthread=None, objective='reg:linear', random_state=0,\n",
       "       reg_alpha=0, reg_lambda=1, scale_pos_weight=1, seed=None,\n",
       "       silent=True, subsample=1)"
      ]
     },
     "execution_count": 39,
     "metadata": {},
     "output_type": "execute_result"
    }
   ],
   "source": [
    "import xgboost as xgb\n",
    "model = xgb.XGBRegressor()\n",
    "model.fit(X_train,y_train)"
   ]
  },
  {
   "cell_type": "code",
   "execution_count": 40,
   "metadata": {},
   "outputs": [],
   "source": [
    "y_pred = model.predict(X_test)"
   ]
  },
  {
   "cell_type": "code",
   "execution_count": 41,
   "metadata": {},
   "outputs": [
    {
     "name": "stdout",
     "output_type": "stream",
     "text": [
      "R2 score:  0.944888829037992\n",
      "RMSE:  17.462111679305632\n",
      "MAE:   11.932601067547822\n"
     ]
    }
   ],
   "source": [
    "from sklearn.metrics import r2_score\n",
    "from sklearn.metrics import mean_absolute_error\n",
    "from sklearn.metrics import mean_squared_error\n",
    "import math\n",
    "# Explained variance score: 1 is perfect prediction\n",
    "print(\"R2 score: \",r2_score(y_test,y_pred,multioutput='variance_weighted'))\n",
    "print(\"RMSE: \",math.sqrt(mean_squared_error(y_test, y_pred)))\n",
    "print(\"MAE:  \",mean_absolute_error(y_test, y_pred))"
   ]
  },
  {
   "cell_type": "code",
   "execution_count": null,
   "metadata": {},
   "outputs": [],
   "source": []
  },
  {
   "cell_type": "code",
   "execution_count": null,
   "metadata": {},
   "outputs": [],
   "source": []
  },
  {
   "cell_type": "code",
   "execution_count": null,
   "metadata": {},
   "outputs": [],
   "source": [
    "# FOR XGBoost CLASSIFIER\n",
    "  *LINEAR REGRESSOR\n",
    "  *EXTRATREES REGRESSOR\n",
    "  *XGB REGRESSOR"
   ]
  },
  {
   "cell_type": "code",
   "execution_count": null,
   "metadata": {},
   "outputs": [],
   "source": []
  },
  {
   "cell_type": "code",
   "execution_count": 7,
   "metadata": {},
   "outputs": [
    {
     "data": {
      "text/plain": [
       "LinearRegression(copy_X=True, fit_intercept=True, n_jobs=None,\n",
       "         normalize=False)"
      ]
     },
     "execution_count": 7,
     "metadata": {},
     "output_type": "execute_result"
    }
   ],
   "source": [
    "from sklearn import datasets, linear_model, metrics\n",
    "reg = linear_model.LinearRegression()\n",
    "reg.fit(X_train, y_train)\n"
   ]
  },
  {
   "cell_type": "code",
   "execution_count": 8,
   "metadata": {},
   "outputs": [],
   "source": [
    "y_pred = reg.predict(X_test)"
   ]
  },
  {
   "cell_type": "code",
   "execution_count": 9,
   "metadata": {},
   "outputs": [
    {
     "name": "stdout",
     "output_type": "stream",
     "text": [
      "R2 score:  0.030597038469079685\n",
      "RMSE:  70.7736126316941\n",
      "MAE:   43.44156395505855\n"
     ]
    }
   ],
   "source": [
    "from sklearn.metrics import r2_score\n",
    "from sklearn.metrics import mean_absolute_error\n",
    "from sklearn.metrics import mean_squared_error\n",
    "import math\n",
    "# Explained variance score: 1 is perfect prediction\n",
    "print(\"R2 score: \",r2_score(y_test,y_pred,multioutput='variance_weighted'))\n",
    "print(\"RMSE: \",math.sqrt(mean_squared_error(y_test, y_pred)))\n",
    "print(\"MAE:  \",mean_absolute_error(y_test, y_pred))"
   ]
  },
  {
   "cell_type": "code",
   "execution_count": 9,
   "metadata": {
    "collapsed": true
   },
   "outputs": [
    {
     "data": {
      "image/png": "[encoded data removed]",
      "text/plain": [
       "<Figure size 432x288 with 1 Axes>"
      ]
     },
     "metadata": {},
     "output_type": "display_data"
    }
   ],
   "source": [
    "plt.style.use('fivethirtyeight') \n",
    "  \n",
    "## plotting residual errors in training data \n",
    "plt.scatter(reg.predict(X_train), reg.predict(X_train) - y_train, \n",
    "            color = \"green\", s = 10, label = 'Train data') \n",
    "  \n",
    "## plotting residual errors in test data \n",
    "plt.scatter(reg.predict(X_test), reg.predict(X_test) - y_test, \n",
    "            color = \"blue\", s = 10, label = 'Test data') \n",
    "  \n",
    "## plotting line for zero residual error \n",
    "plt.hlines(y = 0, xmin = 0, xmax = 50, linewidth = 2) \n",
    "  \n",
    "## plotting legend \n",
    "plt.legend(loc = 'upper right') \n",
    "  \n",
    "## plot title \n",
    "plt.title(\"Residual errors\") \n",
    "  \n",
    "## function to show plot \n",
    "plt.show() "
   ]
  },
  {
   "cell_type": "code",
   "execution_count": null,
   "metadata": {},
   "outputs": [],
   "source": []
  },
  {
   "cell_type": "code",
   "execution_count": null,
   "metadata": {},
   "outputs": [],
   "source": []
  },
  {
   "cell_type": "code",
   "execution_count": 10,
   "metadata": {},
   "outputs": [
    {
     "name": "stderr",
     "output_type": "stream",
     "text": [
      "C:\\Users\\super\\Anaconda3\\lib\\site-packages\\sklearn\\ensemble\\forest.py:246: FutureWarning: The default value of n_estimators will change from 10 in version 0.20 to 100 in 0.22.\n",
      "  \"10 in version 0.20 to 100 in 0.22.\", FutureWarning)\n"
     ]
    },
    {
     "data": {
      "text/plain": [
       "ExtraTreesRegressor(bootstrap=False, criterion='mse', max_depth=None,\n",
       "          max_features='auto', max_leaf_nodes=None,\n",
       "          min_impurity_decrease=0.0, min_impurity_split=None,\n",
       "          min_samples_leaf=1, min_samples_split=2,\n",
       "          min_weight_fraction_leaf=0.0, n_estimators=10, n_jobs=-1,\n",
       "          oob_score=False, random_state=None, verbose=0, warm_start=False)"
      ]
     },
     "execution_count": 10,
     "metadata": {},
     "output_type": "execute_result"
    }
   ],
   "source": [
    "from sklearn import ensemble\n",
    "model = ensemble.ExtraTreesRegressor(n_jobs=-1)\n",
    "model.fit(X_train, y_train)"
   ]
  },
  {
   "cell_type": "code",
   "execution_count": 11,
   "metadata": {},
   "outputs": [],
   "source": [
    "y_pred = model.predict(X_test)"
   ]
  },
  {
   "cell_type": "code",
   "execution_count": 12,
   "metadata": {},
   "outputs": [
    {
     "name": "stdout",
     "output_type": "stream",
     "text": [
      "R2 score:  -0.12056235734399957\n",
      "RMSE:  76.09168620440623\n",
      "MAE:   46.27901362698189\n"
     ]
    }
   ],
   "source": [
    "from sklearn.metrics import r2_score\n",
    "from sklearn.metrics import mean_absolute_error\n",
    "from sklearn.metrics import mean_squared_error\n",
    "import math\n",
    "# Explained variance score: 1 is perfect prediction\n",
    "print(\"R2 score: \",r2_score(y_test,y_pred,multioutput='variance_weighted'))\n",
    "print(\"RMSE: \",math.sqrt(mean_squared_error(y_test, y_pred)))\n",
    "print(\"MAE:  \",mean_absolute_error(y_test, y_pred))"
   ]
  },
  {
   "cell_type": "code",
   "execution_count": null,
   "metadata": {},
   "outputs": [],
   "source": []
  },
  {
   "cell_type": "code",
   "execution_count": 13,
   "metadata": {},
   "outputs": [
    {
     "data": {
      "text/plain": [
       "XGBRegressor(base_score=0.5, booster='gbtree', colsample_bylevel=1,\n",
       "       colsample_bytree=1, gamma=0, learning_rate=0.1, max_delta_step=0,\n",
       "       max_depth=3, min_child_weight=1, missing=None, n_estimators=100,\n",
       "       n_jobs=1, nthread=None, objective='reg:linear', random_state=0,\n",
       "       reg_alpha=0, reg_lambda=1, scale_pos_weight=1, seed=None,\n",
       "       silent=True, subsample=1)"
      ]
     },
     "execution_count": 13,
     "metadata": {},
     "output_type": "execute_result"
    }
   ],
   "source": [
    "import xgboost as xgb\n",
    "model = xgb.XGBRegressor()\n",
    "model.fit(X_train,y_train)"
   ]
  },
  {
   "cell_type": "code",
   "execution_count": 14,
   "metadata": {},
   "outputs": [],
   "source": [
    "y_pred = model.predict(X_test)"
   ]
  },
  {
   "cell_type": "code",
   "execution_count": 15,
   "metadata": {},
   "outputs": [
    {
     "name": "stdout",
     "output_type": "stream",
     "text": [
      "R2 score:  0.05154828448533777\n",
      "RMSE:  70.00463681288026\n",
      "MAE:   42.75454621999905\n"
     ]
    }
   ],
   "source": [
    "from sklearn.metrics import r2_score\n",
    "from sklearn.metrics import mean_absolute_error\n",
    "from sklearn.metrics import mean_squared_error\n",
    "import math\n",
    "# Explained variance score: 1 is perfect prediction\n",
    "print(\"R2 score: \",r2_score(y_test,y_pred,multioutput='variance_weighted'))\n",
    "print(\"RMSE: \",math.sqrt(mean_squared_error(y_test, y_pred)))\n",
    "print(\"MAE:  \",mean_absolute_error(y_test, y_pred))"
   ]
  },
  {
   "cell_type": "code",
   "execution_count": 11,
   "metadata": {},
   "outputs": [
    {
     "ename": "AttributeError",
     "evalue": "module 'xgboost' has no attribute 'feature_importances_'",
     "output_type": "error",
     "traceback": [
      "\u001b[1;31m---------------------------------------------------------------------------\u001b[0m",
      "\u001b[1;31mAttributeError\u001b[0m                            Traceback (most recent call last)",
      "\u001b[1;32m<ipython-input-11-f7bd63fae4a2>\u001b[0m in \u001b[0;36m<module>\u001b[1;34m\u001b[0m\n\u001b[1;32m----> 1\u001b[1;33m \u001b[0mprint\u001b[0m\u001b[1;33m(\u001b[0m\u001b[0mxgb\u001b[0m\u001b[1;33m.\u001b[0m\u001b[0mfeature_importances_\u001b[0m\u001b[1;33m)\u001b[0m \u001b[1;31m#use inbuilt class feature_importances of tree based classifiers\u001b[0m\u001b[1;33m\u001b[0m\u001b[1;33m\u001b[0m\u001b[0m\n\u001b[0m\u001b[0;32m      2\u001b[0m \u001b[1;31m#plot graph of feature importances for better visualization\u001b[0m\u001b[1;33m\u001b[0m\u001b[1;33m\u001b[0m\u001b[1;33m\u001b[0m\u001b[0m\n\u001b[0;32m      3\u001b[0m \u001b[0mfeat_importances\u001b[0m \u001b[1;33m=\u001b[0m \u001b[0mpd\u001b[0m\u001b[1;33m.\u001b[0m\u001b[0mSeries\u001b[0m\u001b[1;33m(\u001b[0m\u001b[0mext\u001b[0m\u001b[1;33m.\u001b[0m\u001b[0mfeature_importances_\u001b[0m\u001b[1;33m,\u001b[0m \u001b[0mindex\u001b[0m\u001b[1;33m=\u001b[0m\u001b[0mX\u001b[0m\u001b[1;33m.\u001b[0m\u001b[0mcolumns\u001b[0m\u001b[1;33m)\u001b[0m\u001b[1;33m\u001b[0m\u001b[1;33m\u001b[0m\u001b[0m\n\u001b[0;32m      4\u001b[0m \u001b[0mfeat_importances\u001b[0m\u001b[1;33m.\u001b[0m\u001b[0mnlargest\u001b[0m\u001b[1;33m(\u001b[0m\u001b[1;36m30\u001b[0m\u001b[1;33m)\u001b[0m\u001b[1;33m.\u001b[0m\u001b[0mplot\u001b[0m\u001b[1;33m(\u001b[0m\u001b[0mkind\u001b[0m\u001b[1;33m=\u001b[0m\u001b[1;34m'barh'\u001b[0m\u001b[1;33m)\u001b[0m\u001b[1;33m\u001b[0m\u001b[1;33m\u001b[0m\u001b[0m\n\u001b[0;32m      5\u001b[0m \u001b[0mplt\u001b[0m\u001b[1;33m.\u001b[0m\u001b[0mshow\u001b[0m\u001b[1;33m(\u001b[0m\u001b[1;33m)\u001b[0m\u001b[1;33m\u001b[0m\u001b[1;33m\u001b[0m\u001b[0m\n",
      "\u001b[1;31mAttributeError\u001b[0m: module 'xgboost' has no attribute 'feature_importances_'"
     ]
    }
   ],
   "source": [
    "print(xgb.feature_importances_) #use inbuilt class feature_importances of tree based classifiers\n",
    "#plot graph of feature importances for better visualization\n",
    "feat_importances = pd.Series(ext.feature_importances_, index=X.columns)\n",
    "feat_importances.nlargest(30).plot(kind='barh')\n",
    "plt.show()"
   ]
  }
 ],
 "metadata": {
  "kernelspec": {
   "display_name": "Python 3",
   "language": "python",
   "name": "python3"
  },
  "language_info": {
   "codemirror_mode": {
    "name": "ipython",
    "version": 3
   },
   "file_extension": ".py",
   "mimetype": "text/x-python",
   "name": "python",
   "nbconvert_exporter": "python",
   "pygments_lexer": "ipython3",
   "version": "3.7.1"
  }
 },
 "nbformat": 4,
 "nbformat_minor": 2
}
